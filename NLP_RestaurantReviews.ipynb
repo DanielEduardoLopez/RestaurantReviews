{
  "nbformat": 4,
  "nbformat_minor": 0,
  "metadata": {
    "colab": {
      "provenance": []
    },
    "kernelspec": {
      "name": "python3",
      "display_name": "Python 3"
    },
    "language_info": {
      "name": "python"
    }
  },
  "cells": [
    {
      "cell_type": "markdown",
      "source": [
        "# Project: **A Classification Model of Restaurant Reviews through Natural Language Processing**\n",
        "_____"
      ],
      "metadata": {
        "id": "_E9eP8lObylX"
      }
    },
    {
      "cell_type": "markdown",
      "source": [
        "Author: **Daniel Eduardo López**\n",
        "\n",
        "#####<a href=\"https://github.com/DanielEduardoLopez\"> GitHub </a>\n",
        "\n",
        "#####<a href=\"https://www.linkedin.com/in/daniel-eduardo-lopez\"> LinkedIn </a> "
      ],
      "metadata": {
        "id": "ud9J_ZrScXBN"
      }
    },
    {
      "cell_type": "markdown",
      "source": [
        "### **1. Goal**\n",
        "\n",
        "To develop several bag-of-words models for classificating restaurant reviews into positive or negative through Natural Language Processing (NLP) and selecting the one with the highest accuracy rate.\n",
        "___\n",
        "### **2. Research Question**\n",
        "\n",
        "Which bag-of-words model for classificating restaurant reviews into positive or negative is able to yield the highest accuracy?\n",
        "___\n",
        "### **3. Hypothesis**\n",
        "\n",
        "A bag-of-words model based on **Random Forests** for classificating restaurant reviews into positive or negative will yield the highest accuracy.\n",
        "___\n",
        "### **4. Methodology**\n",
        "\n",
        "The methodology of the present study is based on Rollin’s Foundational Methodology for Data Science (Rollins, 2015).\n",
        "\n",
        "1. **Analytical approach**: Building and evaluation of classification models.\n",
        "2. **Data requirements**: Reviews of a restaurant and their corresponding labels (0 for negative and 1 for positive).\n",
        "3. **Data collection**: Data was retrieved from <a href=\"https://www.kaggle.com/datasets/vigneshwarsofficial/reviews\">Kaggle</a>.\n",
        "4. **Data exploration and preparation**: Data then was explored and cleaned with Python 3 and its libraries Numpy, Pandas, Regular Expressions, and the Natural Language Toolkit.\n",
        "5. **Data modeling**: \n",
        "6. **Evaluation**: \n",
        "___\n",
        "\n",
        "### **5. Results**\n",
        "\n",
        "#### **5.1 Data collection**\n",
        "As mentioned before, data about restaurant reviews and its corresponding labels was retireved from <a href=\"https://www.kaggle.com/datasets/vigneshwarsofficial/reviews\">Kaggle</a>."
      ],
      "metadata": {
        "id": "TO9e9ltZdAW1"
      }
    },
    {
      "cell_type": "code",
      "execution_count": null,
      "metadata": {
        "id": "l9Rh-4NcboIY"
      },
      "outputs": [],
      "source": [
        "# Libraries importation\n",
        "import numpy as np\n",
        "import matplotlib.pyplot as plt\n",
        "import pandas as pd\n",
        "import re\n",
        "import nltk\n",
        "nltk.download('stopwords')\n",
        "from nltk.corpus import stopwords\n",
        "from nltk.stem.porter import PorterStemmer\n",
        "from sklearn.feature_extraction.text import CountVectorizer\n",
        "from sklearn.model_selection import train_test_split\n",
        "from sklearn.naive_bayes import GaussianNB\n",
        "from sklearn.metrics import confusion_matrix, classification_report"
      ]
    },
    {
      "cell_type": "markdown",
      "source": [
        "### **6. Conclusions**"
      ],
      "metadata": {
        "id": "fCZAUEcxoGdb"
      }
    },
    {
      "cell_type": "markdown",
      "source": [
        "### **7. References**\n",
        "* **Rollins, J. B. (2015)**. *Metodología Fundamental para la Ciencia de Datos. Somers: IBM Corporation.* Retrieved from https://www.ibm.com/downloads/cas/WKK9DX51"
      ],
      "metadata": {
        "id": "ri6xerB7nyFu"
      }
    },
    {
      "cell_type": "code",
      "source": [
        "# End"
      ],
      "metadata": {
        "id": "lcmkxTBKoO2F"
      },
      "execution_count": null,
      "outputs": []
    }
  ]
}