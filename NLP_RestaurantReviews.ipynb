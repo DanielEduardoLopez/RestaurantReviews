{
  "nbformat": 4,
  "nbformat_minor": 0,
  "metadata": {
    "colab": {
      "provenance": []
    },
    "kernelspec": {
      "name": "python3",
      "display_name": "Python 3"
    },
    "language_info": {
      "name": "python"
    }
  },
  "cells": [
    {
      "cell_type": "markdown",
      "source": [
        "# Project: **A Classification Model of Restaurant Reviews through Natural Language Processing**\n",
        "_____"
      ],
      "metadata": {
        "id": "_E9eP8lObylX"
      }
    },
    {
      "cell_type": "markdown",
      "source": [
        "Author: **Daniel Eduardo López**\n",
        "\n",
        "#####<a href=\"https://github.com/DanielEduardoLopez\"> GitHub </a>\n",
        "\n",
        "#####<a href=\"https://www.linkedin.com/in/daniel-eduardo-lopez\"> LinkedIn </a> "
      ],
      "metadata": {
        "id": "ud9J_ZrScXBN"
      }
    },
    {
      "cell_type": "markdown",
      "source": [
        "The purpose of the present notebook is to develop a classification model of restaurant reviews through Natural Language Processing (NLP).\n",
        "\n",
        "To do so, first, the data was cleaned. Then, a Bag of Words was created based on the cleaned reviews. After that, several classification models were fitted in order to find out which one rendered the most accurate results."
      ],
      "metadata": {
        "id": "TO9e9ltZdAW1"
      }
    },
    {
      "cell_type": "code",
      "execution_count": null,
      "metadata": {
        "id": "l9Rh-4NcboIY"
      },
      "outputs": [],
      "source": [
        "# Libraries importation\n",
        "import numpy as np\n",
        "import matplotlib.pyplot as plt\n",
        "import pandas as pd\n",
        "import re\n",
        "import nltk\n",
        "nltk.download('stopwords')\n",
        "from nltk.corpus import stopwords\n",
        "from nltk.stem.porter import PorterStemmer\n",
        "from sklearn.feature_extraction.text import CountVectorizer\n",
        "from sklearn.model_selection import train_test_split\n",
        "from sklearn.naive_bayes import GaussianNB\n",
        "from sklearn.metrics import confusion_matrix, classification_report"
      ]
    }
  ]
}